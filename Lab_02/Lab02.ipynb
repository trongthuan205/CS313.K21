{
  "nbformat": 4,
  "nbformat_minor": 0,
  "metadata": {
    "colab": {
      "name": "Copy of TH02_DataMining.ipynb",
      "provenance": [],
      "collapsed_sections": [],
      "mount_file_id": "1852T2OY4FeooC-glNuwpDEXv6MR1NinE",
      "authorship_tag": "ABX9TyPKVFn1KHVAke/YUlA21+Gd",
      "include_colab_link": true
    },
    "kernelspec": {
      "name": "python3",
      "display_name": "Python 3"
    }
  },
  "cells": [
    {
      "cell_type": "markdown",
      "metadata": {
        "id": "view-in-github",
        "colab_type": "text"
      },
      "source": [
        "<a href=\"https://colab.research.google.com/github/trongthuan205/CS313.K21/blob/master/Lab_02/Lab02.ipynb\" target=\"_parent\"><img src=\"https://colab.research.google.com/assets/colab-badge.svg\" alt=\"Open In Colab\"/></a>"
      ]
    },
    {
      "cell_type": "code",
      "metadata": {
        "id": "K2lNM8FplYkF",
        "colab_type": "code",
        "colab": {}
      },
      "source": [
        "import sys"
      ],
      "execution_count": 0,
      "outputs": []
    },
    {
      "cell_type": "code",
      "metadata": {
        "id": "g48ZjMJhf5lS",
        "colab_type": "code",
        "colab": {
          "base_uri": "https://localhost:8080/",
          "height": 35
        },
        "outputId": "6a953cda-c2ba-4d88-afa2-5e741923eaa6"
      },
      "source": [
        "! git clone https://github.com/trongthuan205/CS313.K21 CS313.K21"
      ],
      "execution_count": 21,
      "outputs": [
        {
          "output_type": "stream",
          "text": [
            "fatal: destination path 'CS313.K21' already exists and is not an empty directory.\n"
          ],
          "name": "stdout"
        }
      ]
    },
    {
      "cell_type": "code",
      "metadata": {
        "id": "GB1fIhiAlvjm",
        "colab_type": "code",
        "colab": {}
      },
      "source": [
        "state_file = \"CS313.K21/Lab_02/stateabbr.txt\"\n",
        "plants_data = \"CS313.K21/Lab_02/plants.data.txt\"\n",
        "plants_binary = \"CS313.K21/Lab_02/plants.csv\""
      ],
      "execution_count": 0,
      "outputs": []
    },
    {
      "cell_type": "code",
      "metadata": {
        "id": "oGip8khGecZy",
        "colab_type": "code",
        "colab": {}
      },
      "source": [
        "def load_stateabbr():\n",
        "\tdict_state = {}\n",
        "\tf = open(state_file)\n",
        "\tfor line in f:\n",
        "\t\tstate = line.strip().split(\" \")[0]\n",
        "\t\tdict_state[state] = \"n\"\n",
        "\tf.close()\n",
        "\treturn dict_state"
      ],
      "execution_count": 0,
      "outputs": []
    },
    {
      "cell_type": "code",
      "metadata": {
        "id": "-nqJemeMhReF",
        "colab_type": "code",
        "colab": {}
      },
      "source": [
        "def convert2binary():\n",
        "\t# load states abbriviate\n",
        "\tstates_origin = load_stateabbr()\n",
        "\tstates = states_origin.copy()\n",
        "\t# prepare write plants binary file\n",
        "\tf_bin = open(plants_binary, \"w\")\n",
        "\t# write header\n",
        "\theader = \"name\"\n",
        "\tfor s in states:\n",
        "\t\theader += \",\" + s\n",
        "\tf_bin.write(header + \"\\n\")\n",
        "\t# read plants.data\n",
        "\tf = open(plants_data, \"r\", encoding = \"ISO-8859-1\")\n",
        "\tfor line in f:\n",
        "\t\tplant = line.strip().split(\",\")\n",
        "\t\tplant_name = plant[0]\n",
        "\t\tnew_line = plant_name\n",
        "\t\t# set bit 1 for states in current line\n",
        "\t\tfor i in range(1, len(plant)):\n",
        "\t\t\tif plant[i] in states:\n",
        "\t\t\t\tstates[plant[i]] = \"y\"\n",
        "\t\t# write to plant binary file\n",
        "\t\tfor s in states:\n",
        "\t\t\tnew_line += \",\" + str(states[s])\n",
        "\t\t# reset state value\n",
        "\t\tf_bin.write(new_line + \"\\n\")\n",
        "\t\tstates = states_origin.copy()\n",
        "\tf.close()\n",
        "\tf_bin.close()"
      ],
      "execution_count": 0,
      "outputs": []
    },
    {
      "cell_type": "code",
      "metadata": {
        "id": "WMpPAFKEExsP",
        "colab_type": "code",
        "colab": {}
      },
      "source": [
        "import pandas as pd\n",
        "new_plants_data = pd.read_csv(\"CS313.K21/plants.csv\")"
      ],
      "execution_count": 0,
      "outputs": []
    },
    {
      "cell_type": "code",
      "metadata": {
        "id": "TA3Y_QO2DFaH",
        "colab_type": "code",
        "colab": {
          "base_uri": "https://localhost:8080/",
          "height": 35
        },
        "outputId": "bf8f7b43-0f05-4700-bb4b-fcaa2c34c26f"
      },
      "source": [
        "new_plants_data.shape"
      ],
      "execution_count": 26,
      "outputs": [
        {
          "output_type": "execute_result",
          "data": {
            "text/plain": [
              "(34781, 70)"
            ]
          },
          "metadata": {
            "tags": []
          },
          "execution_count": 26
        }
      ]
    },
    {
      "cell_type": "code",
      "metadata": {
        "id": "sEBoJifCGIO-",
        "colab_type": "code",
        "colab": {}
      },
      "source": [
        "def summary(): \n",
        "    ncols = new_plants_data.shape[1]\n",
        "    nrows = new_plants_data.shape[0]\n",
        "    num_instances = 0\n",
        "    count_plants = {}\n",
        "    for i in range(1,ncols):\n",
        "        num_instances += 1\n",
        "        state = new_plants_data.columns[i]\n",
        "        count_plants[state] = 0\n",
        "        for j in range(0, nrows):\n",
        "            if new_plants_data.iloc[j, i] == \"y\":\n",
        "                count_plants[state] += 1 \n",
        "    return num_instances, count_plants    "
      ],
      "execution_count": 0,
      "outputs": []
    },
    {
      "cell_type": "code",
      "metadata": {
        "id": "vFjYk83gQVZV",
        "colab_type": "code",
        "colab": {}
      },
      "source": [
        "num_state, number_of_plants_each_state = summary()"
      ],
      "execution_count": 0,
      "outputs": []
    },
    {
      "cell_type": "code",
      "metadata": {
        "id": "XIpSucRyP_rf",
        "colab_type": "code",
        "colab": {
          "base_uri": "https://localhost:8080/",
          "height": 35
        },
        "outputId": "0d4d909e-97b5-4224-81af-d1ea0b24bcde"
      },
      "source": [
        "print('Number of state: ', num_state)"
      ],
      "execution_count": 29,
      "outputs": [
        {
          "output_type": "stream",
          "text": [
            "Number of state:  69\n"
          ],
          "name": "stdout"
        }
      ]
    },
    {
      "cell_type": "code",
      "metadata": {
        "id": "Vhtdr3Y3YdMw",
        "colab_type": "code",
        "colab": {
          "base_uri": "https://localhost:8080/",
          "height": 72
        },
        "outputId": "5163b69a-68b4-4760-b784-a0aa4ea4768a"
      },
      "source": [
        "print('Number of plants in each state: \\n', number_of_plants_each_state)"
      ],
      "execution_count": 30,
      "outputs": [
        {
          "output_type": "stream",
          "text": [
            "Number of plants in each state: \n",
            " {'ab': 3408, 'ak': 2969, 'ar': 4610, 'az': 6778, 'ca': 11676, 'co': 5465, 'ct': 4391, 'de': 3630, 'dc': 3080, 'fl': 6621, 'ga': 5942, 'hi': 3804, 'id': 5129, 'il': 5167, 'in': 4440, 'ia': 3652, 'ks': 3869, 'ky': 4555, 'la': 5154, 'me': 3969, 'md': 5108, 'ma': 4963, 'mi': 4734, 'mn': 3929, 'ms': 4815, 'mo': 4638, 'mt': 4800, 'ne': 3281, 'nv': 5670, 'nh': 3635, 'nj': 4822, 'nm': 6403, 'ny': 5773, 'nc': 5926, 'nd': 2682, 'oh': 4772, 'ok': 4651, 'or': 7028, 'pa': 181, 'pr': 4781, 'ri': 3295, 'sc': 5432, 'sd': 3185, 'tn': 4900, 'tx': 8483, 'ut': 6041, 'vt': 3713, 'va': 5638, 'vi': 2185, 'wa': 5654, 'wv': 4062, 'wi': 4321, 'wy': 4710, 'al': 5702, 'bc': 4875, 'mb': 3023, 'nb': 2856, 'lb': 1433, 'nf': 2188, 'nt': 2024, 'ns': 2844, 'nu': 979, 'on': 5068, 'pe': 5515, 'qc': 4272, 'sk': 2846, 'yt': 2100, 'dengl': 479, 'fraspm': 1210}\n"
          ],
          "name": "stdout"
        }
      ]
    },
    {
      "cell_type": "code",
      "metadata": {
        "id": "EH1_UGV0YkTF",
        "colab_type": "code",
        "colab": {
          "base_uri": "https://localhost:8080/",
          "height": 52
        },
        "outputId": "b847fa43-e921-42a4-b1f3-d2a6f0aad02d"
      },
      "source": [
        "max_state = max(number_of_plants_each_state, key = number_of_plants_each_state.get)\n",
        "prob_max = (number_of_plants_each_state[max_state]/new_plants_data.shape[0])*100\n",
        "print('Max plants in: ', max_state)\n",
        "print('Percentage: ', round(prob_max, 3), '%')"
      ],
      "execution_count": 31,
      "outputs": [
        {
          "output_type": "stream",
          "text": [
            "Max plants in:  ca\n",
            "Percentage:  33.57 %\n"
          ],
          "name": "stdout"
        }
      ]
    },
    {
      "cell_type": "code",
      "metadata": {
        "id": "mZqLbWwtaWcG",
        "colab_type": "code",
        "colab": {
          "base_uri": "https://localhost:8080/",
          "height": 52
        },
        "outputId": "b38616c0-df41-4847-a979-ced837ddf6b6"
      },
      "source": [
        "min_state = min(number_of_plants_each_state, key = number_of_plants_each_state.get)\n",
        "prob_min = (number_of_plants_each_state[min_state]/new_plants_data.shape[0])*100\n",
        "print('Min plants in: ', min_state)\n",
        "print('Percentage: ', round(prob_min, 3), '%')"
      ],
      "execution_count": 32,
      "outputs": [
        {
          "output_type": "stream",
          "text": [
            "Min plants in:  pa\n",
            "Percentage:  0.52 %\n"
          ],
          "name": "stdout"
        }
      ]
    },
    {
      "cell_type": "code",
      "metadata": {
        "id": "cguyTyulacIy",
        "colab_type": "code",
        "colab": {
          "base_uri": "https://localhost:8080/",
          "height": 35
        },
        "outputId": "f3fc6e57-af25-46ac-d91e-26700e0a172a"
      },
      "source": [
        "sum_plants = sum(number_of_plants_each_state.values())\n",
        "print('Average plants in one state: ', round(sum_plants/num_state) )"
      ],
      "execution_count": 33,
      "outputs": [
        {
          "output_type": "stream",
          "text": [
            "Average plants in one state:  4347\n"
          ],
          "name": "stdout"
        }
      ]
    },
    {
      "cell_type": "code",
      "metadata": {
        "id": "DEcc5CrZ9Qqc",
        "colab_type": "code",
        "colab": {}
      },
      "source": [
        "data_weka = new_plants_data.replace(\"n\", \"?\")"
      ],
      "execution_count": 0,
      "outputs": []
    },
    {
      "cell_type": "code",
      "metadata": {
        "id": "Nnbdudvv9Ycp",
        "colab_type": "code",
        "colab": {}
      },
      "source": [
        "data_weka = new_data.iloc[:,1:]"
      ],
      "execution_count": 0,
      "outputs": []
    },
    {
      "cell_type": "code",
      "metadata": {
        "id": "K-qwdYZH9fcQ",
        "colab_type": "code",
        "colab": {
          "base_uri": "https://localhost:8080/",
          "height": 222
        },
        "outputId": "5116e75a-27da-4c26-a485-a01d62dc0ee3"
      },
      "source": [
        "data_weka.head()"
      ],
      "execution_count": 36,
      "outputs": [
        {
          "output_type": "execute_result",
          "data": {
            "text/html": [
              "<div>\n",
              "<style scoped>\n",
              "    .dataframe tbody tr th:only-of-type {\n",
              "        vertical-align: middle;\n",
              "    }\n",
              "\n",
              "    .dataframe tbody tr th {\n",
              "        vertical-align: top;\n",
              "    }\n",
              "\n",
              "    .dataframe thead th {\n",
              "        text-align: right;\n",
              "    }\n",
              "</style>\n",
              "<table border=\"1\" class=\"dataframe\">\n",
              "  <thead>\n",
              "    <tr style=\"text-align: right;\">\n",
              "      <th></th>\n",
              "      <th>ak</th>\n",
              "      <th>ar</th>\n",
              "      <th>az</th>\n",
              "      <th>ca</th>\n",
              "      <th>co</th>\n",
              "      <th>ct</th>\n",
              "      <th>de</th>\n",
              "      <th>dc</th>\n",
              "      <th>fl</th>\n",
              "      <th>ga</th>\n",
              "      <th>hi</th>\n",
              "      <th>id</th>\n",
              "      <th>il</th>\n",
              "      <th>in</th>\n",
              "      <th>ia</th>\n",
              "      <th>ks</th>\n",
              "      <th>ky</th>\n",
              "      <th>la</th>\n",
              "      <th>me</th>\n",
              "      <th>md</th>\n",
              "      <th>ma</th>\n",
              "      <th>mi</th>\n",
              "      <th>mn</th>\n",
              "      <th>ms</th>\n",
              "      <th>mo</th>\n",
              "      <th>mt</th>\n",
              "      <th>ne</th>\n",
              "      <th>nv</th>\n",
              "      <th>nh</th>\n",
              "      <th>nj</th>\n",
              "      <th>nm</th>\n",
              "      <th>ny</th>\n",
              "      <th>nc</th>\n",
              "      <th>nd</th>\n",
              "      <th>oh</th>\n",
              "      <th>ok</th>\n",
              "      <th>or</th>\n",
              "      <th>pa</th>\n",
              "      <th>pr</th>\n",
              "      <th>ri</th>\n",
              "      <th>sc</th>\n",
              "      <th>sd</th>\n",
              "      <th>tn</th>\n",
              "      <th>tx</th>\n",
              "      <th>ut</th>\n",
              "      <th>vt</th>\n",
              "      <th>va</th>\n",
              "      <th>vi</th>\n",
              "      <th>wa</th>\n",
              "      <th>wv</th>\n",
              "      <th>wi</th>\n",
              "      <th>wy</th>\n",
              "      <th>al</th>\n",
              "      <th>bc</th>\n",
              "      <th>mb</th>\n",
              "      <th>nb</th>\n",
              "      <th>lb</th>\n",
              "      <th>nf</th>\n",
              "      <th>nt</th>\n",
              "      <th>ns</th>\n",
              "      <th>nu</th>\n",
              "      <th>on</th>\n",
              "      <th>pe</th>\n",
              "      <th>qc</th>\n",
              "      <th>sk</th>\n",
              "      <th>yt</th>\n",
              "      <th>dengl</th>\n",
              "      <th>fraspm</th>\n",
              "    </tr>\n",
              "  </thead>\n",
              "  <tbody>\n",
              "    <tr>\n",
              "      <th>0</th>\n",
              "      <td>?</td>\n",
              "      <td>?</td>\n",
              "      <td>?</td>\n",
              "      <td>?</td>\n",
              "      <td>?</td>\n",
              "      <td>?</td>\n",
              "      <td>?</td>\n",
              "      <td>?</td>\n",
              "      <td>y</td>\n",
              "      <td>?</td>\n",
              "      <td>?</td>\n",
              "      <td>?</td>\n",
              "      <td>?</td>\n",
              "      <td>?</td>\n",
              "      <td>?</td>\n",
              "      <td>?</td>\n",
              "      <td>?</td>\n",
              "      <td>?</td>\n",
              "      <td>?</td>\n",
              "      <td>?</td>\n",
              "      <td>?</td>\n",
              "      <td>?</td>\n",
              "      <td>?</td>\n",
              "      <td>?</td>\n",
              "      <td>?</td>\n",
              "      <td>?</td>\n",
              "      <td>?</td>\n",
              "      <td>?</td>\n",
              "      <td>?</td>\n",
              "      <td>?</td>\n",
              "      <td>?</td>\n",
              "      <td>?</td>\n",
              "      <td>y</td>\n",
              "      <td>?</td>\n",
              "      <td>?</td>\n",
              "      <td>?</td>\n",
              "      <td>?</td>\n",
              "      <td>?</td>\n",
              "      <td>?</td>\n",
              "      <td>?</td>\n",
              "      <td>?</td>\n",
              "      <td>?</td>\n",
              "      <td>?</td>\n",
              "      <td>?</td>\n",
              "      <td>?</td>\n",
              "      <td>?</td>\n",
              "      <td>?</td>\n",
              "      <td>?</td>\n",
              "      <td>?</td>\n",
              "      <td>?</td>\n",
              "      <td>?</td>\n",
              "      <td>?</td>\n",
              "      <td>?</td>\n",
              "      <td>?</td>\n",
              "      <td>?</td>\n",
              "      <td>?</td>\n",
              "      <td>?</td>\n",
              "      <td>?</td>\n",
              "      <td>?</td>\n",
              "      <td>?</td>\n",
              "      <td>?</td>\n",
              "      <td>?</td>\n",
              "      <td>?</td>\n",
              "      <td>?</td>\n",
              "      <td>?</td>\n",
              "      <td>?</td>\n",
              "      <td>?</td>\n",
              "      <td>?</td>\n",
              "    </tr>\n",
              "    <tr>\n",
              "      <th>1</th>\n",
              "      <td>?</td>\n",
              "      <td>?</td>\n",
              "      <td>?</td>\n",
              "      <td>?</td>\n",
              "      <td>?</td>\n",
              "      <td>?</td>\n",
              "      <td>?</td>\n",
              "      <td>?</td>\n",
              "      <td>y</td>\n",
              "      <td>?</td>\n",
              "      <td>?</td>\n",
              "      <td>?</td>\n",
              "      <td>?</td>\n",
              "      <td>?</td>\n",
              "      <td>?</td>\n",
              "      <td>?</td>\n",
              "      <td>?</td>\n",
              "      <td>?</td>\n",
              "      <td>?</td>\n",
              "      <td>?</td>\n",
              "      <td>?</td>\n",
              "      <td>?</td>\n",
              "      <td>?</td>\n",
              "      <td>?</td>\n",
              "      <td>?</td>\n",
              "      <td>?</td>\n",
              "      <td>?</td>\n",
              "      <td>?</td>\n",
              "      <td>?</td>\n",
              "      <td>?</td>\n",
              "      <td>?</td>\n",
              "      <td>?</td>\n",
              "      <td>y</td>\n",
              "      <td>?</td>\n",
              "      <td>?</td>\n",
              "      <td>?</td>\n",
              "      <td>?</td>\n",
              "      <td>?</td>\n",
              "      <td>?</td>\n",
              "      <td>?</td>\n",
              "      <td>?</td>\n",
              "      <td>?</td>\n",
              "      <td>?</td>\n",
              "      <td>?</td>\n",
              "      <td>?</td>\n",
              "      <td>?</td>\n",
              "      <td>?</td>\n",
              "      <td>?</td>\n",
              "      <td>?</td>\n",
              "      <td>?</td>\n",
              "      <td>?</td>\n",
              "      <td>?</td>\n",
              "      <td>?</td>\n",
              "      <td>?</td>\n",
              "      <td>?</td>\n",
              "      <td>?</td>\n",
              "      <td>?</td>\n",
              "      <td>?</td>\n",
              "      <td>?</td>\n",
              "      <td>?</td>\n",
              "      <td>?</td>\n",
              "      <td>?</td>\n",
              "      <td>?</td>\n",
              "      <td>?</td>\n",
              "      <td>?</td>\n",
              "      <td>?</td>\n",
              "      <td>?</td>\n",
              "      <td>?</td>\n",
              "    </tr>\n",
              "    <tr>\n",
              "      <th>2</th>\n",
              "      <td>?</td>\n",
              "      <td>?</td>\n",
              "      <td>?</td>\n",
              "      <td>?</td>\n",
              "      <td>?</td>\n",
              "      <td>y</td>\n",
              "      <td>?</td>\n",
              "      <td>y</td>\n",
              "      <td>y</td>\n",
              "      <td>?</td>\n",
              "      <td>y</td>\n",
              "      <td>?</td>\n",
              "      <td>y</td>\n",
              "      <td>?</td>\n",
              "      <td>?</td>\n",
              "      <td>?</td>\n",
              "      <td>y</td>\n",
              "      <td>y</td>\n",
              "      <td>?</td>\n",
              "      <td>y</td>\n",
              "      <td>?</td>\n",
              "      <td>y</td>\n",
              "      <td>?</td>\n",
              "      <td>y</td>\n",
              "      <td>?</td>\n",
              "      <td>?</td>\n",
              "      <td>?</td>\n",
              "      <td>?</td>\n",
              "      <td>?</td>\n",
              "      <td>?</td>\n",
              "      <td>?</td>\n",
              "      <td>?</td>\n",
              "      <td>y</td>\n",
              "      <td>?</td>\n",
              "      <td>?</td>\n",
              "      <td>?</td>\n",
              "      <td>?</td>\n",
              "      <td>?</td>\n",
              "      <td>y</td>\n",
              "      <td>?</td>\n",
              "      <td>y</td>\n",
              "      <td>?</td>\n",
              "      <td>?</td>\n",
              "      <td>?</td>\n",
              "      <td>?</td>\n",
              "      <td>?</td>\n",
              "      <td>y</td>\n",
              "      <td>y</td>\n",
              "      <td>?</td>\n",
              "      <td>?</td>\n",
              "      <td>?</td>\n",
              "      <td>?</td>\n",
              "      <td>?</td>\n",
              "      <td>?</td>\n",
              "      <td>?</td>\n",
              "      <td>?</td>\n",
              "      <td>?</td>\n",
              "      <td>?</td>\n",
              "      <td>?</td>\n",
              "      <td>?</td>\n",
              "      <td>?</td>\n",
              "      <td>?</td>\n",
              "      <td>?</td>\n",
              "      <td>?</td>\n",
              "      <td>?</td>\n",
              "      <td>?</td>\n",
              "      <td>?</td>\n",
              "      <td>?</td>\n",
              "    </tr>\n",
              "    <tr>\n",
              "      <th>3</th>\n",
              "      <td>?</td>\n",
              "      <td>?</td>\n",
              "      <td>?</td>\n",
              "      <td>?</td>\n",
              "      <td>?</td>\n",
              "      <td>y</td>\n",
              "      <td>?</td>\n",
              "      <td>y</td>\n",
              "      <td>y</td>\n",
              "      <td>?</td>\n",
              "      <td>?</td>\n",
              "      <td>?</td>\n",
              "      <td>y</td>\n",
              "      <td>?</td>\n",
              "      <td>?</td>\n",
              "      <td>?</td>\n",
              "      <td>y</td>\n",
              "      <td>y</td>\n",
              "      <td>?</td>\n",
              "      <td>y</td>\n",
              "      <td>?</td>\n",
              "      <td>y</td>\n",
              "      <td>?</td>\n",
              "      <td>y</td>\n",
              "      <td>?</td>\n",
              "      <td>?</td>\n",
              "      <td>?</td>\n",
              "      <td>?</td>\n",
              "      <td>?</td>\n",
              "      <td>?</td>\n",
              "      <td>?</td>\n",
              "      <td>?</td>\n",
              "      <td>y</td>\n",
              "      <td>?</td>\n",
              "      <td>?</td>\n",
              "      <td>?</td>\n",
              "      <td>?</td>\n",
              "      <td>?</td>\n",
              "      <td>y</td>\n",
              "      <td>?</td>\n",
              "      <td>y</td>\n",
              "      <td>?</td>\n",
              "      <td>?</td>\n",
              "      <td>?</td>\n",
              "      <td>?</td>\n",
              "      <td>?</td>\n",
              "      <td>y</td>\n",
              "      <td>y</td>\n",
              "      <td>?</td>\n",
              "      <td>?</td>\n",
              "      <td>?</td>\n",
              "      <td>?</td>\n",
              "      <td>?</td>\n",
              "      <td>?</td>\n",
              "      <td>?</td>\n",
              "      <td>?</td>\n",
              "      <td>?</td>\n",
              "      <td>?</td>\n",
              "      <td>?</td>\n",
              "      <td>?</td>\n",
              "      <td>?</td>\n",
              "      <td>?</td>\n",
              "      <td>?</td>\n",
              "      <td>?</td>\n",
              "      <td>?</td>\n",
              "      <td>?</td>\n",
              "      <td>?</td>\n",
              "      <td>?</td>\n",
              "    </tr>\n",
              "    <tr>\n",
              "      <th>4</th>\n",
              "      <td>?</td>\n",
              "      <td>?</td>\n",
              "      <td>?</td>\n",
              "      <td>?</td>\n",
              "      <td>?</td>\n",
              "      <td>?</td>\n",
              "      <td>?</td>\n",
              "      <td>?</td>\n",
              "      <td>?</td>\n",
              "      <td>?</td>\n",
              "      <td>y</td>\n",
              "      <td>?</td>\n",
              "      <td>?</td>\n",
              "      <td>?</td>\n",
              "      <td>?</td>\n",
              "      <td>?</td>\n",
              "      <td>?</td>\n",
              "      <td>?</td>\n",
              "      <td>?</td>\n",
              "      <td>?</td>\n",
              "      <td>?</td>\n",
              "      <td>?</td>\n",
              "      <td>?</td>\n",
              "      <td>?</td>\n",
              "      <td>?</td>\n",
              "      <td>?</td>\n",
              "      <td>?</td>\n",
              "      <td>?</td>\n",
              "      <td>?</td>\n",
              "      <td>?</td>\n",
              "      <td>?</td>\n",
              "      <td>?</td>\n",
              "      <td>?</td>\n",
              "      <td>?</td>\n",
              "      <td>?</td>\n",
              "      <td>?</td>\n",
              "      <td>?</td>\n",
              "      <td>?</td>\n",
              "      <td>y</td>\n",
              "      <td>?</td>\n",
              "      <td>?</td>\n",
              "      <td>?</td>\n",
              "      <td>?</td>\n",
              "      <td>?</td>\n",
              "      <td>?</td>\n",
              "      <td>?</td>\n",
              "      <td>?</td>\n",
              "      <td>?</td>\n",
              "      <td>?</td>\n",
              "      <td>?</td>\n",
              "      <td>?</td>\n",
              "      <td>?</td>\n",
              "      <td>?</td>\n",
              "      <td>?</td>\n",
              "      <td>?</td>\n",
              "      <td>?</td>\n",
              "      <td>?</td>\n",
              "      <td>?</td>\n",
              "      <td>?</td>\n",
              "      <td>?</td>\n",
              "      <td>?</td>\n",
              "      <td>?</td>\n",
              "      <td>?</td>\n",
              "      <td>?</td>\n",
              "      <td>?</td>\n",
              "      <td>?</td>\n",
              "      <td>?</td>\n",
              "      <td>?</td>\n",
              "    </tr>\n",
              "  </tbody>\n",
              "</table>\n",
              "</div>"
            ],
            "text/plain": [
              "  ak ar az ca co ct de dc fl ga hi  ... nf nt ns nu on pe qc sk yt dengl fraspm\n",
              "0  ?  ?  ?  ?  ?  ?  ?  ?  y  ?  ?  ...  ?  ?  ?  ?  ?  ?  ?  ?  ?     ?      ?\n",
              "1  ?  ?  ?  ?  ?  ?  ?  ?  y  ?  ?  ...  ?  ?  ?  ?  ?  ?  ?  ?  ?     ?      ?\n",
              "2  ?  ?  ?  ?  ?  y  ?  y  y  ?  y  ...  ?  ?  ?  ?  ?  ?  ?  ?  ?     ?      ?\n",
              "3  ?  ?  ?  ?  ?  y  ?  y  y  ?  ?  ...  ?  ?  ?  ?  ?  ?  ?  ?  ?     ?      ?\n",
              "4  ?  ?  ?  ?  ?  ?  ?  ?  ?  ?  y  ...  ?  ?  ?  ?  ?  ?  ?  ?  ?     ?      ?\n",
              "\n",
              "[5 rows x 68 columns]"
            ]
          },
          "metadata": {
            "tags": []
          },
          "execution_count": 36
        }
      ]
    },
    {
      "cell_type": "code",
      "metadata": {
        "id": "8MY209Lk9i2S",
        "colab_type": "code",
        "colab": {}
      },
      "source": [
        "new_data.to_csv(\"CS313.K21/Lab_02/plants_for_weka.csv\", index = False)"
      ],
      "execution_count": 0,
      "outputs": []
    }
  ]
}