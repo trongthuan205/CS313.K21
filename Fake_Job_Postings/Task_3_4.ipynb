{
  "nbformat": 4,
  "nbformat_minor": 0,
  "metadata": {
    "colab": {
      "name": "Task_3_4.ipynb",
      "provenance": [],
      "toc_visible": true,
      "mount_file_id": "https://github.com/trongthuan205/CS313.K21/blob/master/Fake_Job_Postings/Task_3_4.ipynb",
      "authorship_tag": "ABX9TyM2+SIpb00no74t5q1Hn/Yz",
      "include_colab_link": true
    },
    "kernelspec": {
      "name": "python3",
      "display_name": "Python 3"
    }
  },
  "cells": [
    {
      "cell_type": "markdown",
      "metadata": {
        "id": "view-in-github",
        "colab_type": "text"
      },
      "source": [
        "<a href=\"https://colab.research.google.com/github/trongthuan205/CS313.K21/blob/master/Fake_Job_Postings/Task_3_4.ipynb\" target=\"_parent\"><img src=\"https://colab.research.google.com/assets/colab-badge.svg\" alt=\"Open In Colab\"/></a>"
      ]
    },
    {
      "cell_type": "code",
      "metadata": {
        "id": "MxQ1RXqFXe13",
        "colab_type": "code",
        "outputId": "d15432b3-56cd-4f37-addf-7ca86d65f135",
        "colab": {
          "base_uri": "https://localhost:8080/",
          "height": 35
        }
      },
      "source": [
        "! git clone https://github.com/trongthuan205/CS313.K21.git CS313.K21"
      ],
      "execution_count": 10,
      "outputs": [
        {
          "output_type": "stream",
          "text": [
            "fatal: destination path 'CS313.K21' already exists and is not an empty directory.\n"
          ],
          "name": "stdout"
        }
      ]
    },
    {
      "cell_type": "code",
      "metadata": {
        "id": "66EtxGDmYLjl",
        "colab_type": "code",
        "colab": {}
      },
      "source": [
        "import pandas as pd\n",
        "import numpy as np\n",
        "\n",
        "from sklearn.model_selection import cross_val_score\n",
        "from sklearn.model_selection import cross_val_predict\n",
        "from sklearn.model_selection import train_test_split\n",
        "from sklearn.tree import DecisionTreeClassifier\n",
        "from sklearn.metrics import classification_report\n",
        "from sklearn.model_selection import KFold"
      ],
      "execution_count": 0,
      "outputs": []
    },
    {
      "cell_type": "code",
      "metadata": {
        "id": "-eHkY9xlF34-",
        "colab_type": "code",
        "colab": {}
      },
      "source": [
        "# Tất cả DataFrame data sử dụng trong file này đều phải đọc từ file csv đã qua bước tiền xử lí của Quyến\n",
        "data = pd.read_csv('CS313.K21/Fake_Job_Postings/DATA.txt', sep = ',', header = None)"
      ],
      "execution_count": 0,
      "outputs": []
    },
    {
      "cell_type": "code",
      "metadata": {
        "id": "r-uFRx2RHs38",
        "colab_type": "code",
        "outputId": "a213871f-4c64-48b1-b392-c25d5224de90",
        "colab": {
          "base_uri": "https://localhost:8080/",
          "height": 254
        }
      },
      "source": [
        "data.head()"
      ],
      "execution_count": 15,
      "outputs": [
        {
          "output_type": "execute_result",
          "data": {
            "text/html": [
              "<div>\n",
              "<style scoped>\n",
              "    .dataframe tbody tr th:only-of-type {\n",
              "        vertical-align: middle;\n",
              "    }\n",
              "\n",
              "    .dataframe tbody tr th {\n",
              "        vertical-align: top;\n",
              "    }\n",
              "\n",
              "    .dataframe thead th {\n",
              "        text-align: right;\n",
              "    }\n",
              "</style>\n",
              "<table border=\"1\" class=\"dataframe\">\n",
              "  <thead>\n",
              "    <tr style=\"text-align: right;\">\n",
              "      <th></th>\n",
              "      <th>0</th>\n",
              "      <th>1</th>\n",
              "      <th>2</th>\n",
              "      <th>3</th>\n",
              "      <th>4</th>\n",
              "      <th>5</th>\n",
              "      <th>6</th>\n",
              "      <th>7</th>\n",
              "      <th>8</th>\n",
              "      <th>9</th>\n",
              "      <th>10</th>\n",
              "      <th>11</th>\n",
              "      <th>12</th>\n",
              "      <th>13</th>\n",
              "      <th>14</th>\n",
              "      <th>15</th>\n",
              "      <th>16</th>\n",
              "      <th>17</th>\n",
              "    </tr>\n",
              "  </thead>\n",
              "  <tbody>\n",
              "    <tr>\n",
              "      <th>0</th>\n",
              "      <td>1</td>\n",
              "      <td>1</td>\n",
              "      <td>1</td>\n",
              "      <td>1</td>\n",
              "      <td>0</td>\n",
              "      <td>1</td>\n",
              "      <td>1</td>\n",
              "      <td>1</td>\n",
              "      <td>0</td>\n",
              "      <td>0</td>\n",
              "      <td>1</td>\n",
              "      <td>0</td>\n",
              "      <td>Other</td>\n",
              "      <td>Internship</td>\n",
              "      <td>0</td>\n",
              "      <td>0</td>\n",
              "      <td>Marketing</td>\n",
              "      <td>0.0</td>\n",
              "    </tr>\n",
              "    <tr>\n",
              "      <th>1</th>\n",
              "      <td>2</td>\n",
              "      <td>1</td>\n",
              "      <td>1</td>\n",
              "      <td>1</td>\n",
              "      <td>0</td>\n",
              "      <td>1</td>\n",
              "      <td>1</td>\n",
              "      <td>1</td>\n",
              "      <td>1</td>\n",
              "      <td>0</td>\n",
              "      <td>1</td>\n",
              "      <td>0</td>\n",
              "      <td>Full-time</td>\n",
              "      <td>Not Applicable</td>\n",
              "      <td>0</td>\n",
              "      <td>Marketing and Advertising</td>\n",
              "      <td>Customer Service</td>\n",
              "      <td>0.0</td>\n",
              "    </tr>\n",
              "    <tr>\n",
              "      <th>2</th>\n",
              "      <td>3</td>\n",
              "      <td>1</td>\n",
              "      <td>1</td>\n",
              "      <td>1</td>\n",
              "      <td>0</td>\n",
              "      <td>1</td>\n",
              "      <td>1</td>\n",
              "      <td>1</td>\n",
              "      <td>0</td>\n",
              "      <td>0</td>\n",
              "      <td>1</td>\n",
              "      <td>0</td>\n",
              "      <td>0</td>\n",
              "      <td>0</td>\n",
              "      <td>0</td>\n",
              "      <td>0</td>\n",
              "      <td>0</td>\n",
              "      <td>0.0</td>\n",
              "    </tr>\n",
              "    <tr>\n",
              "      <th>3</th>\n",
              "      <td>4</td>\n",
              "      <td>1</td>\n",
              "      <td>1</td>\n",
              "      <td>1</td>\n",
              "      <td>0</td>\n",
              "      <td>1</td>\n",
              "      <td>1</td>\n",
              "      <td>1</td>\n",
              "      <td>1</td>\n",
              "      <td>0</td>\n",
              "      <td>1</td>\n",
              "      <td>0</td>\n",
              "      <td>Full-time</td>\n",
              "      <td>Mid-Senior level</td>\n",
              "      <td>Bachelor's Degree</td>\n",
              "      <td>Computer Software</td>\n",
              "      <td>Sales</td>\n",
              "      <td>0.0</td>\n",
              "    </tr>\n",
              "    <tr>\n",
              "      <th>4</th>\n",
              "      <td>5</td>\n",
              "      <td>1</td>\n",
              "      <td>1</td>\n",
              "      <td>1</td>\n",
              "      <td>0</td>\n",
              "      <td>1</td>\n",
              "      <td>1</td>\n",
              "      <td>1</td>\n",
              "      <td>1</td>\n",
              "      <td>0</td>\n",
              "      <td>1</td>\n",
              "      <td>1</td>\n",
              "      <td>Full-time</td>\n",
              "      <td>Mid-Senior level</td>\n",
              "      <td>Bachelor's Degree</td>\n",
              "      <td>Hospital &amp; Health Care</td>\n",
              "      <td>Health Care Provider</td>\n",
              "      <td>0.0</td>\n",
              "    </tr>\n",
              "  </tbody>\n",
              "</table>\n",
              "</div>"
            ],
            "text/plain": [
              "   0   1   2   ...                         15                    16   17\n",
              "0   1   1   1  ...                          0             Marketing  0.0\n",
              "1   2   1   1  ...  Marketing and Advertising      Customer Service  0.0\n",
              "2   3   1   1  ...                          0                     0  0.0\n",
              "3   4   1   1  ...          Computer Software                 Sales  0.0\n",
              "4   5   1   1  ...     Hospital & Health Care  Health Care Provider  0.0\n",
              "\n",
              "[5 rows x 18 columns]"
            ]
          },
          "metadata": {
            "tags": []
          },
          "execution_count": 15
        }
      ]
    },
    {
      "cell_type": "code",
      "metadata": {
        "id": "nRSYIg5CkUxZ",
        "colab_type": "code",
        "colab": {}
      },
      "source": [
        "    employment_type = pd.get_dummies(new_data.iloc[:,12])\n",
        "    required_ex = pd.get_dummies(new_data.iloc[:,13])\n",
        "    required_edu = pd.get_dummies(new_data.iloc[:,14])\n",
        "    industry = pd.get_dummies(new_data.iloc[:,15])\n",
        "    function = pd.get_dummies(new_data.iloc[:,16])"
      ],
      "execution_count": 0,
      "outputs": []
    },
    {
      "cell_type": "code",
      "metadata": {
        "id": "Wm_L_NXOkWho",
        "colab_type": "code",
        "colab": {}
      },
      "source": [
        "    label = data.iloc[:,-1].values\n",
        "    train = np.concatenate([new_data.iloc[:,[0,1,2,3,5,6,7,8,9,10,11]],employment_type,required_ex,required_edu,industry,function], axis  = 1)\n",
        "    model = DecisionTreeClassifier(criterion = 'entropy', random_state = 0)"
      ],
      "execution_count": 0,
      "outputs": []
    },
    {
      "cell_type": "code",
      "metadata": {
        "id": "xKAsp9PWkXQx",
        "colab_type": "code",
        "colab": {
          "base_uri": "https://localhost:8080/",
          "height": 35
        },
        "outputId": "ddc44aca-ca8d-4a79-f113-4ba2315f4a35"
      },
      "source": [
        "len(label)"
      ],
      "execution_count": 42,
      "outputs": [
        {
          "output_type": "execute_result",
          "data": {
            "text/plain": [
              "2311"
            ]
          },
          "metadata": {
            "tags": []
          },
          "execution_count": 42
        }
      ]
    },
    {
      "cell_type": "code",
      "metadata": {
        "id": "ydtL243YPqEq",
        "colab_type": "code",
        "colab": {}
      },
      "source": [
        "def Call_Train(data):\n",
        "\n",
        "    new_data = data.dropna()\n",
        "\n",
        "    employment_type = pd.get_dummies(new_data.iloc[:,12])\n",
        "    required_ex = pd.get_dummies(new_data.iloc[:,13])\n",
        "    required_edu = pd.get_dummies(new_data.iloc[:,14])\n",
        "    industry = pd.get_dummies(new_data.iloc[:,15])\n",
        "    function = pd.get_dummies(new_data.iloc[:,16])\n",
        "\n",
        "    label = new_data.iloc[:,-1].values\n",
        "    train = np.concatenate([new_data.iloc[:,[0,1,2,3,5,6,7,8,9,10,11]],employment_type,required_ex,required_edu,industry,function], axis  = 1)\n",
        "    model = DecisionTreeClassifier(criterion = 'entropy', random_state = 0)\n",
        "\n",
        "    # K-Fold validation\n",
        "    label_pred = cross_val_predict(model, train, label, cv = KFold(n_splits=10, shuffle=True))\n",
        "    report = classification_report(label, label_pred, output_dict = True)\n",
        "\n",
        "    print(report)\n",
        "\n",
        "    evaluation = pd.DataFrame(report).transpose()\n",
        "    model.fit(train, label)\n",
        "\n",
        "    return model, evaluation"
      ],
      "execution_count": 0,
      "outputs": []
    },
    {
      "cell_type": "code",
      "metadata": {
        "id": "EyqvEhwH5amQ",
        "colab_type": "code",
        "outputId": "42c19cd3-087d-4bba-d768-156a3841bca9",
        "colab": {
          "base_uri": "https://localhost:8080/",
          "height": 55
        }
      },
      "source": [
        "model = Call_Train(data)"
      ],
      "execution_count": 45,
      "outputs": [
        {
          "output_type": "stream",
          "text": [
            "{'0.0': {'precision': 0.9844097995545658, 'recall': 0.9866071428571429, 'f1-score': 0.9855072463768116, 'support': 2240}, '1.0': {'precision': 0.5384615384615384, 'recall': 0.5, 'f1-score': 0.5185185185185186, 'support': 70}, 'accuracy': 0.9718614718614719, 'macro avg': {'precision': 0.7614356690080522, 'recall': 0.7433035714285714, 'f1-score': 0.7520128824476651, 'support': 2310}, 'weighted avg': {'precision': 0.97089621588508, 'recall': 0.9718614718614719, 'f1-score': 0.9713560728053483, 'support': 2310}}\n"
          ],
          "name": "stdout"
        }
      ]
    },
    {
      "cell_type": "code",
      "metadata": {
        "id": "CrI3Fv_mYI3_",
        "colab_type": "code",
        "colab": {}
      },
      "source": [
        "def PreprocessingData(data, new_data):\n",
        "    employment_type = pd.get_dummies(new_data.iloc[:,12])\n",
        "    required_ex = pd.get_dummies(new_data.iloc[:,13])\n",
        "    required_edu = pd.get_dummies(new_data.iloc[:,14])\n",
        "    industry = pd.get_dummies(new_data.iloc[:,15])\n",
        "    function = pd.get_dummies(new_data.iloc[:,16])\n",
        "\n",
        "    employment_type = pd.get_dummies(employment_type)\n",
        "    required_ex = pd.get_dummies(required_ex)\n",
        "    required_edu = pd.get_dummies(required_edu)\n",
        "    industry = pd.get_dummies(industry)\n",
        "    function = pd.get_dummies(function)\n",
        "\n",
        "    temp_1 = new_data.iloc[0,12]\n",
        "    temp_2 = new_data.iloc[0,13]\n",
        "    temp_3 = new_data.iloc[0,14]\n",
        "    temp_4 = new_data.iloc[0,15]\n",
        "    temp_5 = new_data.iloc[0,16]\n",
        "\n",
        "    new_data = new_data.drop([4,12,13,14,15,16], axis = 1)\n",
        "\n",
        "    new_data = np.append(new_data,np.array(employment_type[str(temp_1)]))\n",
        "    new_data = np.append(new_data,np.array(required_ex[str(temp_2)]))\n",
        "    new_data = np.append(new_data,np.array(required_edu[str(temp_3)]))\n",
        "\n",
        "    return new_data"
      ],
      "execution_count": 0,
      "outputs": []
    },
    {
      "cell_type": "code",
      "metadata": {
        "id": "29kjeu50Y4gA",
        "colab_type": "code",
        "colab": {}
      },
      "source": [
        "def Call_ClassifySingleData(data, model):\n",
        "    data_input = input (\"Nhap vao thong tin: \")\n",
        "    data_input = data_input.split (\",\")\n",
        "\n",
        "    for i in range(len(data_input)):\n",
        "        if(data_input[i].isnumeric()):\n",
        "            data_input[i] = int(data_input[i])\n",
        "    \n",
        "    new_data = pd.DataFrame(data_input)\n",
        "    new_data = new_data.T\n",
        "\n",
        "    test = PreprocessingData(data,new_data)\n",
        "    result = model.predict(test.reshape(1,-1))\n",
        "    \n",
        "    if result == 1:\n",
        "        return 'Fraudulent'\n",
        "    elif result  == 0:\n",
        "        return 'Not Fraudulent'"
      ],
      "execution_count": 0,
      "outputs": []
    },
    {
      "cell_type": "code",
      "metadata": {
        "id": "dZP5ejfUaCpW",
        "colab_type": "code",
        "colab": {}
      },
      "source": [
        "def Call_ClassifyMultiData(data,model):\n",
        "    data_input = files.upload()\n",
        "    path = os.getcwd()\n",
        "    data_input = pd.read_csv(path + '/test.txt', sep = ',', header = None)\n",
        "\n",
        "    for i in range(len(data_input)):\n",
        "        new_data = pd.DataFrame(data_input.iloc[i,:]).T\n",
        "        new_data = PreprocessingData(data,new_data)\n",
        "        prediction = model.predict(new_data.reshape(1,-1))\n",
        "        if prediction == 1:\n",
        "            res = 'Fraudulent'\n",
        "        elif prediction  == 0:\n",
        "            res = 'Not Fraudulent'\n",
        "        print({new_data[0], res})"
      ],
      "execution_count": 0,
      "outputs": []
    }
  ]
}