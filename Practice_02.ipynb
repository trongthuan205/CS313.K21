{
  "nbformat": 4,
  "nbformat_minor": 0,
  "metadata": {
    "colab": {
      "name": "TH02_DataMining.ipynb",
      "provenance": [],
      "private_outputs": true,
      "collapsed_sections": [],
      "mount_file_id": "1852T2OY4FeooC-glNuwpDEXv6MR1NinE",
      "authorship_tag": "ABX9TyPMoqQmgqleZjzHNdtn9Nix",
      "include_colab_link": true
    },
    "kernelspec": {
      "name": "python3",
      "display_name": "Python 3"
    }
  },
  "cells": [
    {
      "cell_type": "markdown",
      "metadata": {
        "id": "view-in-github",
        "colab_type": "text"
      },
      "source": [
        "<a href=\"https://colab.research.google.com/github/trongthuan205/CS313.K21/blob/master/Practice_02.ipynb\" target=\"_parent\"><img src=\"https://colab.research.google.com/assets/colab-badge.svg\" alt=\"Open In Colab\"/></a>"
      ]
    },
    {
      "cell_type": "code",
      "metadata": {
        "id": "K2lNM8FplYkF",
        "colab_type": "code",
        "colab": {}
      },
      "source": [
        "import sys"
      ],
      "execution_count": 0,
      "outputs": []
    },
    {
      "cell_type": "code",
      "metadata": {
        "id": "g48ZjMJhf5lS",
        "colab_type": "code",
        "colab": {}
      },
      "source": [
        "! git clone https://github.com/trongthuan205/CS313.K21 CS313.K21"
      ],
      "execution_count": 0,
      "outputs": []
    },
    {
      "cell_type": "code",
      "metadata": {
        "id": "GB1fIhiAlvjm",
        "colab_type": "code",
        "colab": {}
      },
      "source": [
        "state_file = \"CS313.K21/stateabbr.txt\"\n",
        "plants_data = \"CS313.K21/plants.data.txt\"\n",
        "plants_binary = \"CS313.K21/plants.csv\""
      ],
      "execution_count": 0,
      "outputs": []
    },
    {
      "cell_type": "code",
      "metadata": {
        "id": "oGip8khGecZy",
        "colab_type": "code",
        "colab": {}
      },
      "source": [
        "def load_stateabbr():\n",
        "\tdict_state = {}\n",
        "\tf = open(state_file)\n",
        "\tfor line in f:\n",
        "\t\tstate = line.strip().split(\" \")[0]\n",
        "\t\tdict_state[state] = \"n\"\n",
        "\tf.close()\n",
        "\treturn dict_state"
      ],
      "execution_count": 0,
      "outputs": []
    },
    {
      "cell_type": "code",
      "metadata": {
        "id": "-nqJemeMhReF",
        "colab_type": "code",
        "colab": {}
      },
      "source": [
        "def convert2binary():\n",
        "\t# load states abbriviate\n",
        "\tstates_origin = load_stateabbr()\n",
        "\tstates = states_origin.copy()\n",
        "\t# prepare write plants binary file\n",
        "\tf_bin = open(plants_binary, \"w\")\n",
        "\t# write header\n",
        "\theader = \"name\"\n",
        "\tfor s in states:\n",
        "\t\theader += \",\" + s\n",
        "\tf_bin.write(header + \"\\n\")\n",
        "\t# read plants.data\n",
        "\tf = open(plants_data, \"r\", encoding = \"ISO-8859-1\")\n",
        "\tfor line in f:\n",
        "\t\tplant = line.strip().split(\",\")\n",
        "\t\tplant_name = plant[0]\n",
        "\t\tnew_line = plant_name\n",
        "\t\t# set bit 1 for states in current line\n",
        "\t\tfor i in range(1, len(plant)):\n",
        "\t\t\tif plant[i] in states:\n",
        "\t\t\t\tstates[plant[i]] = \"y\"\n",
        "\t\t# write to plant binary file\n",
        "\t\tfor s in states:\n",
        "\t\t\tnew_line += \",\" + str(states[s])\n",
        "\t\t# reset state value\n",
        "\t\tf_bin.write(new_line + \"\\n\")\n",
        "\t\tstates = states_origin.copy()\n",
        "\tf.close()\n",
        "\tf_bin.close()"
      ],
      "execution_count": 0,
      "outputs": []
    },
    {
      "cell_type": "code",
      "metadata": {
        "id": "WMpPAFKEExsP",
        "colab_type": "code",
        "colab": {}
      },
      "source": [
        "import pandas as pd\n",
        "new_plants_data = pd.read_csv(\"CS313.K21/plants.csv\")"
      ],
      "execution_count": 0,
      "outputs": []
    },
    {
      "cell_type": "code",
      "metadata": {
        "id": "TA3Y_QO2DFaH",
        "colab_type": "code",
        "colab": {}
      },
      "source": [
        "new_plants_data.shape"
      ],
      "execution_count": 0,
      "outputs": []
    },
    {
      "cell_type": "code",
      "metadata": {
        "id": "sEBoJifCGIO-",
        "colab_type": "code",
        "colab": {}
      },
      "source": [
        "def summary(): \n",
        "    ncols = new_plants_data.shape[1]\n",
        "    nrows = new_plants_data.shape[0]\n",
        "    num_instances = 0\n",
        "    count_plants = {}\n",
        "    for i in range(1,ncols):\n",
        "        num_instances += 1\n",
        "        state = new_plants_data.columns[i]\n",
        "        count_plants[state] = 0\n",
        "        for j in range(0, nrows):\n",
        "            if new_plants_data.iloc[j, i] == \"y\":\n",
        "                count_plants[state] += 1 \n",
        "    return num_instances, count_plants    "
      ],
      "execution_count": 0,
      "outputs": []
    },
    {
      "cell_type": "code",
      "metadata": {
        "id": "vFjYk83gQVZV",
        "colab_type": "code",
        "colab": {}
      },
      "source": [
        "num_state, number_of_plants_each_state = summary()"
      ],
      "execution_count": 0,
      "outputs": []
    },
    {
      "cell_type": "code",
      "metadata": {
        "id": "XIpSucRyP_rf",
        "colab_type": "code",
        "colab": {}
      },
      "source": [
        "print('Number of state: ', num_state)"
      ],
      "execution_count": 0,
      "outputs": []
    },
    {
      "cell_type": "code",
      "metadata": {
        "id": "Vhtdr3Y3YdMw",
        "colab_type": "code",
        "colab": {}
      },
      "source": [
        "print('Number of plants in each state: \\n', number_of_plants_each_state)"
      ],
      "execution_count": 0,
      "outputs": []
    },
    {
      "cell_type": "code",
      "metadata": {
        "id": "EH1_UGV0YkTF",
        "colab_type": "code",
        "colab": {}
      },
      "source": [
        "max_state = max(number_of_plants_each_state, key = number_of_plants_each_state.get)\n",
        "prob_max = (number_of_plants_each_state[max_state]/new_plants_data.shape[0])*100\n",
        "print('Max plants in: ', max_state)\n",
        "print('Percentage: ', round(prob_max, 3), '%')"
      ],
      "execution_count": 0,
      "outputs": []
    },
    {
      "cell_type": "code",
      "metadata": {
        "id": "-fzHfvy7apEj",
        "colab_type": "code",
        "colab": {}
      },
      "source": [
        "number_of_plants_each_state[max_state]"
      ],
      "execution_count": 0,
      "outputs": []
    },
    {
      "cell_type": "code",
      "metadata": {
        "id": "mZqLbWwtaWcG",
        "colab_type": "code",
        "colab": {}
      },
      "source": [
        "min_state = min(number_of_plants_each_state, key = number_of_plants_each_state.get)\n",
        "prob_min = (number_of_plants_each_state[min_state]/new_plants_data.shape[0])*100\n",
        "print('Min plants in: ', min_state)\n",
        "print('Percentage: ', round(prob_min, 3), '%')"
      ],
      "execution_count": 0,
      "outputs": []
    },
    {
      "cell_type": "code",
      "metadata": {
        "id": "cguyTyulacIy",
        "colab_type": "code",
        "colab": {}
      },
      "source": [
        "sum_plants = sum(number_of_plants_each_state.values())\n",
        "print('Average plants in one state: ', round(sum_plants/num_state) )"
      ],
      "execution_count": 0,
      "outputs": []
    },
    {
      "cell_type": "code",
      "metadata": {
        "id": "DEcc5CrZ9Qqc",
        "colab_type": "code",
        "colab": {}
      },
      "source": [
        "new_data = new_plants_data.replace(\"n\", \"?\")"
      ],
      "execution_count": 0,
      "outputs": []
    },
    {
      "cell_type": "code",
      "metadata": {
        "id": "Nnbdudvv9Ycp",
        "colab_type": "code",
        "colab": {}
      },
      "source": [
        "new_data = new_data.iloc[:,1:]"
      ],
      "execution_count": 0,
      "outputs": []
    },
    {
      "cell_type": "code",
      "metadata": {
        "id": "K-qwdYZH9fcQ",
        "colab_type": "code",
        "colab": {}
      },
      "source": [
        "new_data.head()"
      ],
      "execution_count": 0,
      "outputs": []
    },
    {
      "cell_type": "code",
      "metadata": {
        "id": "8MY209Lk9i2S",
        "colab_type": "code",
        "colab": {}
      },
      "source": [
        "new_data.to_csv(\"CS313.K21/plants_for_weka.csv\", index = False)"
      ],
      "execution_count": 0,
      "outputs": []
    }
  ]
}