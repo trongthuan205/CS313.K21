{
  "nbformat": 4,
  "nbformat_minor": 0,
  "metadata": {
    "colab": {
      "name": "Round03",
      "provenance": [],
      "collapsed_sections": [],
      "toc_visible": true,
      "authorship_tag": "ABX9TyNBV83eQCjXSxrMjZ1s5hol",
      "include_colab_link": true
    },
    "kernelspec": {
      "name": "python3",
      "display_name": "Python 3"
    }
  },
  "cells": [
    {
      "cell_type": "markdown",
      "metadata": {
        "id": "view-in-github",
        "colab_type": "text"
      },
      "source": [
        "<a href=\"https://colab.research.google.com/github/trongthuan205/CS313.K21/blob/master/MidTerm_Test/Round03.ipynb\" target=\"_parent\"><img src=\"https://colab.research.google.com/assets/colab-badge.svg\" alt=\"Open In Colab\"/></a>"
      ]
    },
    {
      "cell_type": "markdown",
      "metadata": {
        "id": "kHyY1Oxm2tCC",
        "colab_type": "text"
      },
      "source": [
        "# Clone github\n",
        "- Dữ liệu và model được lưu trên github"
      ]
    },
    {
      "cell_type": "code",
      "metadata": {
        "id": "m7kl9YKc1zLz",
        "colab_type": "code",
        "outputId": "ef6915c8-a911-4ddb-ceb2-0289f2348c2d",
        "colab": {
          "base_uri": "https://localhost:8080/",
          "height": 141
        }
      },
      "source": [
        "! git clone https://github.com/trongthuan205/CS114.K21 CS114.K21"
      ],
      "execution_count": 1,
      "outputs": [
        {
          "output_type": "stream",
          "text": [
            "Cloning into 'CS114.K21'...\n",
            "remote: Enumerating objects: 41, done.\u001b[K\n",
            "remote: Counting objects: 100% (41/41), done.\u001b[K\n",
            "remote: Compressing objects: 100% (41/41), done.\u001b[K\n",
            "remote: Total 217 (delta 15), reused 0 (delta 0), pack-reused 176\u001b[K\n",
            "Receiving objects: 100% (217/217), 8.03 MiB | 25.14 MiB/s, done.\n",
            "Resolving deltas: 100% (93/93), done.\n"
          ],
          "name": "stdout"
        }
      ]
    },
    {
      "cell_type": "markdown",
      "metadata": {
        "id": "5ADB_Kw_2vhQ",
        "colab_type": "text"
      },
      "source": [
        "# Load data from github"
      ]
    },
    {
      "cell_type": "code",
      "metadata": {
        "id": "CI4E--NU2FmY",
        "colab_type": "code",
        "colab": {}
      },
      "source": [
        "import pandas as pd\n",
        "data = pd.read_csv('CS114.K21/MidTerm_Test/data3.txt', sep = ',', header = None)\n",
        "data.columns = ['Size', 'Time']\n",
        "X = data.iloc[:, 0].values.reshape(-1, 1)\n",
        "y = data.iloc[:, 1]"
      ],
      "execution_count": 0,
      "outputs": []
    },
    {
      "cell_type": "markdown",
      "metadata": {
        "id": "DyQLlxSl2yIE",
        "colab_type": "text"
      },
      "source": [
        "# Load  model from github"
      ]
    },
    {
      "cell_type": "code",
      "metadata": {
        "id": "JFDWlS2Dzd_4",
        "colab_type": "code",
        "colab": {}
      },
      "source": [
        "import pickle\n",
        "loaded_model = pickle.load(open('/content/CS114.K21/Linear_Regression_Size_Time.sav', 'rb'))"
      ],
      "execution_count": 0,
      "outputs": []
    },
    {
      "cell_type": "code",
      "metadata": {
        "id": "7UIsUf5PgqF-",
        "colab_type": "code",
        "colab": {}
      },
      "source": [
        "result = loaded_model.predict(X_test.reshape(-1, 1))"
      ],
      "execution_count": 0,
      "outputs": []
    },
    {
      "cell_type": "markdown",
      "metadata": {
        "id": "Pm-j2bxz20Wx",
        "colab_type": "text"
      },
      "source": [
        "# Evaluate model with new data"
      ]
    },
    {
      "cell_type": "code",
      "metadata": {
        "id": "187yMvSBzv_Y",
        "colab_type": "code",
        "outputId": "71b34a3f-2027-4cb4-fbc9-058d554a894a",
        "colab": {
          "base_uri": "https://localhost:8080/",
          "height": 52
        }
      },
      "source": [
        "Y_train_pred = lin_reg.predict(X_train)\n",
        "Y_test_pred = lin_reg.predict(X_test)\n",
        "from sklearn.metrics import r2_score\n",
        "print(r2_score(Y_train, Y_train_pred))\n",
        "print(r2_score(Y_test, Y_test_pred))"
      ],
      "execution_count": 0,
      "outputs": [
        {
          "output_type": "stream",
          "text": [
            "0.9275707702469379\n",
            "0.9320815137309177\n"
          ],
          "name": "stdout"
        }
      ]
    },
    {
      "cell_type": "markdown",
      "metadata": {
        "id": "kU1kVOHi2hN3",
        "colab_type": "text"
      },
      "source": [
        "- Kết quả dự đoán trên tập dữ liệu mới cho kết quả thấp hơn"
      ]
    },
    {
      "cell_type": "markdown",
      "metadata": {
        "id": "XUXi29h84NZd",
        "colab_type": "text"
      },
      "source": [
        "# Tăng số lượng feature"
      ]
    },
    {
      "cell_type": "markdown",
      "metadata": {
        "id": "G0ZcgCai7Kns",
        "colab_type": "text"
      },
      "source": [
        "- Tạo một mảng mới\n",
        "- Có số dòng bằng với số dòng của bộ dữ liệu cũ\n",
        "- Số cột là 3: cột đầu tiên giống là giá trị tương ứng với giá trị trong dữ liệu cũ, cột thứ 2 là giá trị mới bình phương và thứ 3 là lập phương"
      ]
    },
    {
      "cell_type": "code",
      "metadata": {
        "id": "ukmkazeI37yV",
        "colab_type": "code",
        "colab": {}
      },
      "source": [
        "import numpy as np\n",
        "X_new = np.zeros((len(X),3))"
      ],
      "execution_count": 0,
      "outputs": []
    },
    {
      "cell_type": "code",
      "metadata": {
        "id": "rSjmeRCK4XIN",
        "colab_type": "code",
        "outputId": "eeb56150-d631-4e1c-be72-27026a0a727f",
        "colab": {
          "base_uri": "https://localhost:8080/",
          "height": 52
        }
      },
      "source": [
        "for i in range(X_new.shape[0]):\n",
        "    X_new[i,0] = X[i,0]\n",
        "    X_new[i,1] = X[i,0]*X[i,0]\n",
        "    X_new[i,2] = X[i,0]*X[i,0]*X[i,0]"
      ],
      "execution_count": 0,
      "outputs": [
        {
          "output_type": "stream",
          "text": [
            "/usr/local/lib/python3.6/dist-packages/ipykernel_launcher.py:4: RuntimeWarning: overflow encountered in long_scalars\n",
            "  after removing the cwd from sys.path.\n"
          ],
          "name": "stderr"
        }
      ]
    },
    {
      "cell_type": "markdown",
      "metadata": {
        "id": "IF91gV425dmV",
        "colab_type": "text"
      },
      "source": [
        "# Train new model"
      ]
    },
    {
      "cell_type": "code",
      "metadata": {
        "id": "C_MpwUKe5REY",
        "colab_type": "code",
        "colab": {}
      },
      "source": [
        "X_train, X_test, Y_train, Y_test = train_test_split(X_new, Y, train_size = 0.8, random_state = 0)"
      ],
      "execution_count": 0,
      "outputs": []
    },
    {
      "cell_type": "code",
      "metadata": {
        "id": "4FkdXJW55i3d",
        "colab_type": "code",
        "outputId": "712c3c44-2c03-4b2b-98a1-27ec4570ea56",
        "colab": {
          "base_uri": "https://localhost:8080/",
          "height": 35
        }
      },
      "source": [
        "from sklearn.linear_model import LinearRegression\n",
        "\n",
        "lin_reg = LinearRegression()\n",
        "lin_reg.fit(X_train, Y_train)"
      ],
      "execution_count": 0,
      "outputs": [
        {
          "output_type": "execute_result",
          "data": {
            "text/plain": [
              "LinearRegression(copy_X=True, fit_intercept=True, n_jobs=None, normalize=False)"
            ]
          },
          "metadata": {
            "tags": []
          },
          "execution_count": 60
        }
      ]
    },
    {
      "cell_type": "code",
      "metadata": {
        "id": "JEIXG8fZ6VmH",
        "colab_type": "code",
        "colab": {}
      },
      "source": [
        "Y_train_pred = lin_reg.predict(X_train)\n",
        "Y_test_pred = lin_reg.predict(X_test)"
      ],
      "execution_count": 0,
      "outputs": []
    },
    {
      "cell_type": "code",
      "metadata": {
        "id": "8VRMIPD66ZWl",
        "colab_type": "code",
        "outputId": "0a0612a3-4e7a-45b0-f6cf-4fc8b5f7fc0a",
        "colab": {
          "base_uri": "https://localhost:8080/",
          "height": 52
        }
      },
      "source": [
        "\n",
        "from sklearn.metrics import r2_score\n",
        "print(r2_score(Y_train, Y_train_pred))\n",
        "print(r2_score(Y_test, Y_test_pred))\n"
      ],
      "execution_count": 0,
      "outputs": [
        {
          "output_type": "stream",
          "text": [
            "0.9878184818854974\n",
            "0.9897745803177237\n"
          ],
          "name": "stdout"
        }
      ]
    },
    {
      "cell_type": "markdown",
      "metadata": {
        "id": "tOq5e-v_6epW",
        "colab_type": "text"
      },
      "source": [
        "- Model mới cho performance model cũ\n",
        "- Lí do: "
      ]
    }
  ]
}